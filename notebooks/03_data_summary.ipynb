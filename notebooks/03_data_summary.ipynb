{
 "cells": [
  {
   "cell_type": "markdown",
   "metadata": {},
   "source": [
    "# iZone User Segmentation & Requirements Analysis: Exploratory Data Analysis"
   ]
  },
  {
   "cell_type": "markdown",
   "metadata": {},
   "source": [
    "## 1. Introduction\n",
    "\n",
    "Welcome to the analysis of the iZone platform's user base. iZone is a critical portal for students and staff, providing access to essential academic and administrative information. To enhance user experience and guide future development, a survey was conducted, and the data has been analyzed to understand user segments, their needs, and their pain points.\n",
    "\n",
    "This notebook walks through the key findings, from identifying distinct user groups to pinpointing high-priority functional and non-functional requirements."
   ]
  },
  {
   "cell_type": "markdown",
   "metadata": {},
   "source": [
    "## 2. Survey Data Quality Overview\n",
    "\n",
    "Before diving into segmentation, it's crucial to understand the quality and characteristics of our survey data. The following visualization provides an overview of response completeness, distribution by affiliation, and how responses were collected over time."
   ]
  },
  {
   "cell_type": "markdown",
   "metadata": {},
   "source": [
    "![Data Quality Assessment](../media/data_quality_visualizations.png)\n",
    "\n",
    "*<Insert a brief interpretation here based on the actual content of `data_quality_visualizations.png`. For example: \"The data quality assessment shows a high average response completion rate, indicating engaged respondents. The distribution across affiliations appears reasonable, with a notable peak in responses around [Date]. This suggests that our dataset is robust enough for further analysis.\"*>"
   ]
  },
  {
   "cell_type": "markdown",
   "metadata": {},
   "source": [
    "## 3. Understanding Our Users: Segmentation\n",
    "\n",
    "To better cater to diverse user needs, we've segmented the iZone users based on their usage patterns, satisfaction levels, the variety of tasks they perform (task diversity), and their reported frustrations."
   ]
  },
  {
   "cell_type": "markdown",
   "metadata": {},
   "source": [
    "### 3.1. User Segment Distribution\n",
    "\n",
    "The analysis revealed several distinct user segments. Here's how our user base is distributed:"
   ]
  },
  {
   "cell_type": "markdown",
   "metadata": {},
   "source": [
    "![User Segment Distribution](../media/seg_dist_pie.png)\n",
    "\n",
    "**Key Observations:**\n",
    "- **Frustrated Users (50.2%):** This is the largest segment, indicating a significant portion of users are experiencing notable issues with iZone. Addressing their concerns should be a top priority.\n",
    "- **Unknown (42.9%):** A substantial number of users did not fit neatly into the predefined primary segments. Further investigation might be needed to understand this group better, or their characteristics might be more diverse.\n",
    "- **Power Users (3.8%):** These are frequent, satisfied users who likely leverage iZone effectively. They can be a source of positive feedback and advocacy.\n",
    "- **Heavy Users (3.1%):** This group uses iZone frequently and performs many tasks, but may not be as satisfied or as frustration-free as Power Users.\n",
    "\n",
    "*(Note: The report `report/izone_segmentation_analysis_report.txt` provides more detail on how these segments were defined and their exact counts.)*"
   ]
  },
  {
   "cell_type": "markdown",
   "metadata": {},
   "source": [
    "### 3.2. Segment Characteristics\n",
    "\n",
    "Let's delve deeper into what defines each segment:"
   ]
  },
  {
   "cell_type": "markdown",
   "metadata": {},
   "source": [
    "#### Overall Satisfaction by Segment\n",
    "\n",
    "How satisfied is each group with iZone overall?"
   ]
  },
  {
   "cell_type": "markdown",
   "metadata": {},
   "source": [
    "![Satisfaction Distribution by Segment](../media/seg_satisfaction_box.png)\n",
    "\n",
    "- As expected, **Frustrated Users** report the lowest satisfaction levels.\n",
    "- **Power Users** show the highest satisfaction, reinforcing their positive experience.\n",
    "- **Heavy Users** have moderate satisfaction, suggesting that while they use the platform a lot, there's room for improvement in their experience."
   ]
  },
  {
   "cell_type": "markdown",
   "metadata": {},
   "source": [
    "#### Usage Frequency by Segment\n",
    "\n",
    "How often do different segments use iZone?"
   ]
  },
  {
   "cell_type": "markdown",
   "metadata": {},
   "source": [
    "![Usage Frequency by Segment](../media/seg_usage_freq_box.png)\n",
    "\n",
    "- **Power Users** and **Heavy Users** are the most frequent users, aligning with their definitions.\n",
    "- **Frustrated Users** exhibit varied usage, but their lower median suggests some might be disengaging due to frustration."
   ]
  },
  {
   "cell_type": "markdown",
   "metadata": {},
   "source": [
    "#### Task Diversity vs. Frustration Level\n",
    "\n",
    "This plot helps us see if users performing more tasks experience more or less frustration."
   ]
  },
  {
   "cell_type": "markdown",
   "metadata": {},
   "source": [
    "![Task Diversity vs Frustration by Segment](../media/taskdiv_vs_frustration.png)\n",
    "\n",
    "- **Frustrated Users** are spread across various task diversity levels, but consistently show higher frustration (level 3 and above).\n",
    "- **Power Users** (green dots) manage high task diversity with low frustration.\n",
    "- **Heavy Users** (ochre dots) also have high task diversity but show slightly higher frustration than Power Users."
   ]
  },
  {
   "cell_type": "markdown",
   "metadata": {},
   "source": [
    "#### Segment Characteristics Profile\n",
    "\n",
    "A comparative look at key metrics across segments."
   ]
  },
  {
   "cell_type": "markdown",
   "metadata": {},
   "source": [
    "![Segment Characteristics Profile](../media/segment_radar.png)\n",
    "\n",
    "*(Assuming `media/segment_radar.png` is the line plot from the script. Adjust description if it's a true radar chart.)*\n",
    "- This profile visually confirms trends: **Power Users** score high on satisfaction and task diversity while maintaining low frustration (not explicitly shown in this plot but implied by their definition).\n",
    "- **Frustrated Users** exhibit low satisfaction. Their usage frequency and task diversity can vary, but their defining trait is their negative experience.\n",
    "- **Heavy Users** show high usage and task diversity, with satisfaction levels between Power Users and Frustrated Users."
   ]
  },
  {
   "cell_type": "markdown",
   "metadata": {},
   "source": [
    "#### Student Percentage by Segment\n",
    "\n",
    "Are certain segments predominantly students?"
   ]
  },
  {
   "cell_type": "markdown",
   "metadata": {},
   "source": [
    "![Student Percentage by Segment](../media/student_pct_bar.png)\n",
    "\n",
    "- **Power Users** are overwhelmingly current students, suggesting they are highly engaged with the platform for their daily academic needs.\n",
    "- **Frustrated Users** also have a significant proportion of students, highlighting the impact of iZone issues on the primary student body.\n",
    "- The **Heavy Users** segment (if it had data in this plot) would also likely be student-heavy.\n",
    "- The **Unknown** segment shows a lower percentage of students, perhaps indicating a mix of alumni, staff, or less engaged students."
   ]
  },
  {
   "cell_type": "markdown",
   "metadata": {},
   "source": [
    "## 4. What Do They Need? Requirements Analysis by Segment\n",
    "\n",
    "Understanding segment characteristics helps us tailor iZone. Now, let's see what functionalities they use and what non-functional aspects (like performance and usability) are most critical for them."
   ]
  },
  {
   "cell_type": "markdown",
   "metadata": {},
   "source": [
    "### 4.1. Functional Requirements (FRs) Demand\n",
    "\n",
    "Which features are most in-demand by each segment?"
   ]
  },
  {
   "cell_type": "markdown",
   "metadata": {},
   "source": [
    "![Functional Requirements Demand by Segment](../media/fr_heatmap.png)\n",
    "\n",
    "**Key Observations:**\n",
    "- **FR1 - Timetable/Schedule, FR2 - Academic Results, FR4 - Fee Payments:** These core academic and administrative functions show universally high demand (100% or close) across Frustrated, Heavy, and Power Users. Ensuring these are flawless is paramount.\n",
    "- **FR3 - Attendance Records:** Highly demanded by Frustrated and Heavy Users. Power Users also show significant demand.\n",
    "- **FR5 - Announcements:** While important for Frustrated and Heavy Users, Power Users in this particular dataset snapshot showed 0% demand for this as a *main task*. This could be an anomaly or indicate they access announcements differently.\n",
    "- **FR7 - Calendar Integration:** High demand from Heavy and Power Users, and still significant for Frustrated Users, indicating a desired convenience feature.\n",
    "\n",
    "The `report/izone_segmentation_analysis_report.txt` states:\n",
    "> *FR1 - Timetable/Schedule: Highest demand from [Segment with max demand]... Core functionality - affects all active users daily/weekly.*\n",
    "> *FR2 - Academic Results: Highest demand from [Segment with max demand]... Critical for academic tracking and student success.*\n",
    "> *FR4 - Fee Payments: Highest demand from [Segment with max demand]... Revenue-critical functionality for institution.*"
   ]
  },
  {
   "cell_type": "markdown",
   "metadata": {},
   "source": [
    "### 4.2. Non-Functional Requirements (NFRs) Issues\n",
    "\n",
    "What aspects like performance, usability, and stability are causing problems for each segment?"
   ]
  },
  {
   "cell_type": "markdown",
   "metadata": {},
   "source": [
    "![Non-Functional Requirements Issues by Segment](../media/nfr_heatmap.png)\n",
    "\n",
    "**Key Observations (Severity %):**\n",
    "- **NFR1 - Performance:** A massive issue for **Frustrated Users (91.7%)**. This is a critical pain point.\n",
    "- **NFR5 - Feature Completeness:** Also highly problematic for **Frustrated Users (77.8%)**.\n",
    "- **NFR7 - Mobile Experience:** A significant issue for **Frustrated Users (75.0%)** and also notably affects **Power Users (63.6%)**, suggesting mobile usability needs broad improvement.\n",
    "- **NFR9 - Announcements Access:** This appears as a major issue for **Heavy Users (100%)** in terms of issue severity (perhaps difficulty in accessing or poor presentation), and also significantly for Frustrated Users. This contrasts with the FR heatmap, suggesting the *way* announcements are accessed or their quality is problematic, even if it's not a top *task* for all.\n",
    "- **NFR10 - Feature Reliability:** Impacts all three segments shown, indicating general concerns about features working as expected.\n",
    "\n",
    "The `report/izone_segmentation_analysis_report.txt` highlights:\n",
    "> *NFR1 - Performance: Most critical for Frustrated Users (91.7% affected)... Affects user satisfaction and system adoption.*\n",
    "> *NFR2 - UI Modernization (not shown in this specific heatmap but generally a top concern): Most critical for [Segment with max issue rate]... Critical for user engagement and modern expectations.*\n",
    "> *NFR3 - Navigation: Most critical for Frustrated Users (37.5% affected)... Affects task completion and user efficiency.*"
   ]
  },
  {
   "cell_type": "markdown",
   "metadata": {},
   "source": [
    "## 5. Overall Priorities for iZone Enhancement\n",
    "\n",
    "Considering the demand for features and the severity of issues, what are the top requirements we should focus on overall?"
   ]
  },
  {
   "cell_type": "markdown",
   "metadata": {},
   "source": [
    "![Top Requirements by Overall Importance](../media/priority_matrix.png)\n",
    "\n",
    "This chart combines average importance scores for both Functional (Blue) and Non-Functional (Red) requirements.\n",
    "\n",
    "**Top Functional Requirements (by average importance/demand):**\n",
    "1.  **Timetable/Schedule**\n",
    "2.  **Fee Payments**\n",
    "3.  **Academic Results**\n",
    "4.  **Calendar Integration**\n",
    "5.  **Attendance Records**\n",
    "\n",
    "**Top Non-Functional Requirements (by average importance/severity):**\n",
    "1.  **Announcements Access** (likely referring to ease/quality of access)\n",
    "2.  **Feature Reliability**\n",
    "3.  **Mobile Experience**\n",
    "4.  **Performance**\n",
    "5.  **Feature Completeness**\n",
    "\n",
    "Clearly, core academic functions are vital. On the non-functional side, ensuring features are reliable, the mobile experience is smooth, and performance is snappy are key to improving overall satisfaction, especially for the large 'Frustrated Users' segment."
   ]
  },
  {
   "cell_type": "markdown",
   "metadata": {},
   "source": [
    "## 6. Key Insights & Recommendations\n",
    "\n",
    "Drawing from the comprehensive `report/izone_segmentation_analysis_report.txt` and the visualizations above, here are the overarching insights and recommendations:"
   ]
  },
  {
   "cell_type": "markdown",
   "metadata": {},
   "source": [
    "1.  **Address the 'Frustrated Users' Segment Urgently:** This large segment (50.2%) experiences significant issues, particularly with **Performance (NFR1)**, **Feature Completeness (NFR5)**, and **Mobile Experience (NFR7)**. Improving these areas will have the broadest positive impact.\n",
    "\n",
    "2.  **Prioritize Core Functional Excellence:** Features like **Timetable/Schedule (FR1)**, **Academic Results (FR2)**, and **Fee Payments (FR4)** are universally demanded. They must be robust, reliable, and user-friendly.\n",
    "\n",
    "3.  **Enhance User Interface (UI) and User Experience (UX):** While `NFR2 - UI Modernization` might not have been the top issue in the provided NFR heatmap (due to data used for that specific image), the full report consistently emphasizes UI/UX improvements. This includes better navigation and a modern look and feel.\n",
    "\n",
    "4.  **Improve Mobile Experience:** Both Frustrated Users and Power Users report issues with mobile usability. A responsive and intuitive mobile interface is no longer a luxury but an expectation.\n",
    "\n",
    "5.  **Investigate 'Unknown' Segment:** The significant size of the 'Unknown' segment (42.9%) warrants further qualitative or quantitative investigation to understand their unique needs and behaviors if they are not being adequately captured by current segmentation.\n",
    "\n",
    "6.  **Leverage 'Power Users':** This satisfied and engaged group can be a source for beta testing new features, providing detailed feedback, and acting as champions for iZone.\n",
    "\n",
    "7.  **Focus on Reliability and Performance:** Across multiple NFRs (Performance, Feature Reliability), it's clear that iZone needs to be faster and more dependable. Frequent errors or slow loading times are major detractors from user satisfaction."
   ]
  },
  {
   "cell_type": "markdown",
   "metadata": {},
   "source": [
    "## 7. Conclusion\n",
    "\n",
    "This user segmentation and requirements analysis provides a clear, data-driven path forward for enhancing the iZone platform. By focusing on the needs of distinct user segments, particularly the large 'Frustrated Users' group, and by prioritizing improvements in core functionalities, performance, and usability, we can significantly improve user satisfaction and the overall effectiveness of iZone.\n",
    "\n",
    "**Next Steps could include:**\n",
    "-   Developing detailed user stories and feature specifications based on these findings.\n",
    "-   Conducting targeted usability testing for high-priority NFRs (e.g., mobile experience, navigation).\n",
    "-   Planning a phased rollout of improvements, starting with those impacting the largest and most dissatisfied segments.\n",
    "-   Continuously monitoring user feedback and platform analytics to measure the impact of changes."
   ]
  }
 ],
 "metadata": {
  "kernelspec": {
   "display_name": "Python 3",
   "language": "python",
   "name": "python3"
  },
  "language_info": {
   "codemirror_mode": {
    "name": "ipython",
    "version": 3
   },
   "file_extension": ".py",
   "mimetype": "text/x-python",
   "name": "python",
   "nbconvert_exporter": "python",
   "pygments_lexer": "ipython3",
   "version": "3.11.4"
  }
 },
 "nbformat": 4,
 "nbformat_minor": 2
}
